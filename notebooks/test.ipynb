{
 "cells": [
  {
   "cell_type": "code",
   "execution_count": null,
   "metadata": {},
   "outputs": [],
   "source": [
    "import warnings\n",
    "\n",
    "## suppress warning \n",
    "warnings.filterwarnings(\"ignore\", category=FutureWarning)\n",
    "# Data cleaning\n",
    "import operator\n",
    "\n",
    "# The standard library to handle geospatial data. \n",
    "import geopandas as gpd\n",
    "import libpysal\n",
    "import mapclassify\n",
    "import matplotlib.pyplot as plt\n",
    "# THE library for morphometric analysis.\n",
    "import momepy as mm\n",
    "# \n",
    "import numpy as np\n",
    "# Handling of data, w/o the spatial component.\n",
    "import pandas as pd\n",
    "import scipy as sp\n",
    "# Mapping\n",
    "import seaborn as sns\n",
    "# Parallel\n",
    "from dask.distributed import Client\n",
    "from scipy.cluster import hierarchy\n",
    "from sklearn import preprocessing\n",
    "from sklearn.mixture import GaussianMixture\n",
    "import owslib.wfs\n",
    "#\n",
    "#-- to show all columns in a dataframe. To reset: pd.reset_option(“max_columns”)\n",
    "pd.set_option('display.max_columns', None) \n"
   ]
  },
  {
   "cell_type": "code",
   "execution_count": null,
   "metadata": {},
   "outputs": [],
   "source": [
    "path_to_data = '/project/stursdat/Data/ScalableGIS/Part1/'"
   ]
  },
  {
   "cell_type": "code",
   "execution_count": null,
   "metadata": {},
   "outputs": [],
   "source": [
    "ams = gpd.read_file(path_to_data + 'AMS_Buurten_lnglat.json').to_crs(28992)\n",
    "# ams = ams.loc[(ams['Stadsdeelcode']  == 'A')] # Amsterdam center\n",
    "ams = ams.loc[(ams['Buurtcode']  == 'AJ03')]  # you can also try other codes eg AJ01\n",
    "ams.explore()"
   ]
  }
 ],
 "metadata": {
  "language_info": {
   "name": "python"
  },
  "orig_nbformat": 4
 },
 "nbformat": 4,
 "nbformat_minor": 2
}
