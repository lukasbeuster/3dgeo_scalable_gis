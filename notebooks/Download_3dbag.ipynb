{
 "cells": [
  {
   "cell_type": "markdown",
   "id": "a004c317-6393-43ef-9c1f-2f82bb5d5a45",
   "metadata": {},
   "source": [
    "# This notebook gives you all the functions needed to download data from the 3DBAG WFS. It will have to be adapted to your use case.\n",
    "\n",
    "No guarantees :)"
   ]
  },
  {
   "attachments": {},
   "cell_type": "markdown",
   "id": "913ecffc-9c85-4735-abfe-6117fdbe0127",
   "metadata": {},
   "source": [
    "# Import modules and functions"
   ]
  },
  {
   "cell_type": "code",
   "execution_count": 1,
   "id": "22fdd57d-4512-4f92-99e6-60d03bc6491b",
   "metadata": {},
   "outputs": [],
   "source": [
    "import os\n",
    "from owslib.wfs import WebFeatureService\n",
    "import shapely.wkt\n",
    "import geopandas as gpd\n",
    "import json\n",
    "from pathlib import Path\n",
    "import urllib\n",
    "import gzip\n",
    "import pandas as pd\n",
    "\n",
    "import warnings\n",
    "# Ignore Futurewarnings\n",
    "warnings.simplefilter(action='ignore', category=FutureWarning)\n",
    "\n",
    "pd.set_option('display.max_columns', None) #-- to show all columns of datasets. To reset: pd.reset_option(“max_columns”)"
   ]
  },
  {
   "attachments": {},
   "cell_type": "markdown",
   "id": "acefbcbb-82cf-4781-82c4-fe63f22754d4",
   "metadata": {},
   "source": [
    "WFS Set-up"
   ]
  },
  {
   "cell_type": "code",
   "execution_count": 2,
   "id": "b4db5053-3a8e-40b8-83b4-d7639d504de0",
   "metadata": {},
   "outputs": [],
   "source": [
    "GPKG_URL = \"https://data.3dbag.nl/gpkg/v210908_fd2cee53/3dbag_v210908_fd2cee53_{TID}.gpkg.gz\"\n",
    "WFS_URL = \"https://data.3dbag.nl/api/BAG3D_v2/wfs\"\n",
    "WFS_LAYER = \"BAG3D_v2:bag_tiles_3k\""
   ]
  },
  {
   "attachments": {},
   "cell_type": "markdown",
   "id": "6ef18b74-ed70-4f6d-8125-220d2ebb3348",
   "metadata": {},
   "source": [
    "Functions"
   ]
  },
  {
   "cell_type": "code",
   "execution_count": 3,
   "id": "be6cd533-fa58-4d75-9b84-a3f4dcfa82e4",
   "metadata": {},
   "outputs": [],
   "source": [
    "def get_tile_ids(wfs_url, wfs_layer, bbox):\n",
    "    '''Uses the wfs information and a bounding box to return 3dbag tile id's.'''\n",
    "    wfs11 = WebFeatureService(url=wfs_url, version='1.1.0')\n",
    "    response = wfs11.getfeature(typename=wfs_layer, bbox=bbox, srsname='urn:x-ogc:def:crs:EPSG:28992', outputFormat='json')\n",
    "\n",
    "    tiles = json.loads( response.read().decode('utf-8') )['features']\n",
    "    tile_ids = [ tile['properties']['tile_id'] for tile in tiles ]\n",
    "\n",
    "    return tile_ids\n",
    "\n",
    "def download_3dbag(tile_ids, tilesdir):\n",
    "    '''Uses wfs information and tile id's generated with the get_tile_ids function to download each tile as gpkg.'''\n",
    "    fnames = []\n",
    "    for tid in tile_ids:\n",
    "        url = GPKG_URL.format(TID=tid)\n",
    "        # print(url)\n",
    "        fname = tilesdir / (tid + '.gpkg')\n",
    "        try:\n",
    "            with urllib.request.urlopen(url) as response, open(fname, 'wb') as out_file:\n",
    "                data = response.read()  # a `bytes` object\n",
    "                out_file.write(gzip.decompress(data))\n",
    "                fnames.append(fname)\n",
    "        except urllib.error.HTTPError as err:\n",
    "            print(err)\n",
    "\n",
    "    return fnames"
   ]
  },
  {
   "attachments": {},
   "cell_type": "markdown",
   "id": "8deee05a-2b1f-4adb-a19a-9e42295cc685",
   "metadata": {},
   "source": [
    "## Load study area extent"
   ]
  },
  {
   "cell_type": "code",
   "execution_count": 4,
   "id": "f07c5f65-5abc-4979-96b1-14a364fb72a4",
   "metadata": {},
   "outputs": [
    {
     "name": "stdout",
     "output_type": "stream",
     "text": [
      "To confirm that this worked: We're left with the following cities ['Groningen', 'Amsterdam', 'Heerhugowaard', 'Utrecht', \"'s-Gravenhage\", 'Dordrecht', 'Hendrik-Ido-Ambacht', 'Rotterdam']\n"
     ]
    },
    {
     "name": "stderr",
     "output_type": "stream",
     "text": [
      "/opt/anaconda3/envs/geo_env/lib/python3.10/site-packages/geopandas/geodataframe.py:1351: SettingWithCopyWarning: \n",
      "A value is trying to be set on a copy of a slice from a DataFrame.\n",
      "Try using .loc[row_indexer,col_indexer] = value instead\n",
      "\n",
      "See the caveats in the documentation: https://pandas.pydata.org/pandas-docs/stable/user_guide/indexing.html#returning-a-view-versus-a-copy\n",
      "  super().__setitem__(key, value)\n"
     ]
    }
   ],
   "source": [
    "#Load study area extent - from https://gadm.org/\n",
    "admin_area = gpd.read_file('../data/raw_data/admin_area/gadm41_NLD_2.json').to_crs(28992)\n",
    "\n",
    "# Create a list containing the placenames as they are in the dataset.\n",
    "places_list = ['Amsterdam']\n",
    "\n",
    "study_areas = admin_area[admin_area['NAME_2'].isin(places_list)]\n",
    "\n",
    "print(f\"To confirm that this worked: We're left with the following cities {list(study_areas.NAME_2.unique())}\")\n",
    "\n",
    "\n",
    "def get_bounds(row):\n",
    "    return row['geometry'].bounds\n",
    "\n",
    "study_areas['bounds'] = study_areas.apply(get_bounds, axis=1)"
   ]
  },
  {
   "attachments": {},
   "cell_type": "markdown",
   "id": "3ee2b1b8-79d2-4fba-bbed-aaf83f2cac02",
   "metadata": {},
   "source": [
    "## Get the tile id's"
   ]
  },
  {
   "cell_type": "code",
   "execution_count": 5,
   "id": "12eb6f02-9652-48a4-9ebe-2eff46a23878",
   "metadata": {},
   "outputs": [
    {
     "name": "stdout",
     "output_type": "stream",
     "text": [
      "(Study area Groningen was processed and 116 tiles were added to the tile_id list\n",
      "(Study area Amsterdam was processed and 247 tiles were added to the tile_id list\n",
      "(Study area Heerhugowaard was processed and 41 tiles were added to the tile_id list\n",
      "(Study area Utrecht was processed and 179 tiles were added to the tile_id list\n",
      "(Study area 's-Gravenhage was processed and 188 tiles were added to the tile_id list\n",
      "(Study area Dordrecht was processed and 86 tiles were added to the tile_id list\n",
      "(Study area Hendrik-Ido-Ambacht was processed and 33 tiles were added to the tile_id list\n",
      "(Study area Rotterdam was processed and 413 tiles were added to the tile_id list\n",
      "------------------\n",
      "Congratulations, a total of 1303 tiles was added to the list\n"
     ]
    }
   ],
   "source": [
    "# Create an empty list\n",
    "tile_ids_temp = []\n",
    "\n",
    "# Iterate through the study_area to get all relevant tile_ids\n",
    "for areas in study_areas.itertuples():\n",
    "    tile_ids_layer = get_tile_ids(WFS_URL, WFS_LAYER, areas.bounds)\n",
    "    print(f'(Study area {areas.NAME_2} was processed and {len(tile_ids_layer)} tiles were added to the tile_id list')\n",
    "    tile_ids_temp.append(tile_ids_layer)\n",
    "\n",
    "# The above loop created a nested list. This next piece is used to flatten the list so we can use it to query.\n",
    "tile_ids = []\n",
    "for sublist in tile_ids_temp:\n",
    "    for item in sublist:\n",
    "        tile_ids.append(item)\n",
    "        \n",
    "print('------------------')\n",
    "print(f'Congratulations, a total of {len(tile_ids)} tiles was added to the list')"
   ]
  },
  {
   "cell_type": "code",
   "execution_count": 6,
   "id": "53742d4b-f056-4dd5-a423-8b297fea4eff",
   "metadata": {},
   "outputs": [],
   "source": [
    "# Download the 3dbag tiles as gpkg. \n",
    "filenames = download_3dbag(tile_ids, Path(\"../data/clean_data/3dbag\").resolve())"
   ]
  },
  {
   "cell_type": "code",
   "execution_count": 13,
   "id": "38c1d5b3-e4ba-4cbd-9dc9-a7852230a621",
   "metadata": {},
   "outputs": [
    {
     "name": "stdout",
     "output_type": "stream",
     "text": [
      "pand\n",
      "ondergrond\n",
      "lod12_2d\n",
      "lod12_3d\n",
      "lod13_2d\n",
      "lod13_3d\n",
      "lod22_2d\n",
      "lod22_3d\n"
     ]
    }
   ],
   "source": [
    "# Find gpkg layer names\n",
    "gpkg = '../data/clean_data/3dbag/28.gpkg'\n",
    "layers = fiona.listlayers(gpkg)\n",
    "for layer in layers:\n",
    "    print(layer)"
   ]
  },
  {
   "cell_type": "code",
   "execution_count": 93,
   "id": "3ba0eeb8-60f0-4418-ae52-985e42fdffef",
   "metadata": {},
   "outputs": [],
   "source": [
    "# Show all columns in dataframe\n",
    "pd.set_option('display.max_columns', None)"
   ]
  },
  {
   "cell_type": "code",
   "execution_count": 95,
   "id": "d3cf348d-032f-40fc-8e82-2a4e3cc6f14b",
   "metadata": {},
   "outputs": [
    {
     "data": {
      "text/html": [
       "<div>\n",
       "<style scoped>\n",
       "    .dataframe tbody tr th:only-of-type {\n",
       "        vertical-align: middle;\n",
       "    }\n",
       "\n",
       "    .dataframe tbody tr th {\n",
       "        vertical-align: top;\n",
       "    }\n",
       "\n",
       "    .dataframe thead th {\n",
       "        text-align: right;\n",
       "    }\n",
       "</style>\n",
       "<table border=\"1\" class=\"dataframe\">\n",
       "  <thead>\n",
       "    <tr style=\"text-align: right;\">\n",
       "      <th></th>\n",
       "      <th>gid</th>\n",
       "      <th>fid</th>\n",
       "      <th>pand_deel_id</th>\n",
       "      <th>dd_id</th>\n",
       "      <th>h_dak_min</th>\n",
       "      <th>h_dak_50p</th>\n",
       "      <th>h_dak_70p</th>\n",
       "      <th>h_dak_max</th>\n",
       "      <th>ondergronds_type</th>\n",
       "      <th>tile_id</th>\n",
       "      <th>geometry</th>\n",
       "    </tr>\n",
       "  </thead>\n",
       "  <tbody>\n",
       "    <tr>\n",
       "      <th>0</th>\n",
       "      <td>21099631</td>\n",
       "      <td>5614198</td>\n",
       "      <td>0</td>\n",
       "      <td>0</td>\n",
       "      <td>0.487889</td>\n",
       "      <td>6.869765</td>\n",
       "      <td>10.828572</td>\n",
       "      <td>12.847837</td>\n",
       "      <td>above ground</td>\n",
       "      <td>2981</td>\n",
       "      <td>POLYGON ((80867.453 456066.917, 80867.900 4560...</td>\n",
       "    </tr>\n",
       "    <tr>\n",
       "      <th>1</th>\n",
       "      <td>21099646</td>\n",
       "      <td>5614199</td>\n",
       "      <td>0</td>\n",
       "      <td>0</td>\n",
       "      <td>1.123393</td>\n",
       "      <td>15.737561</td>\n",
       "      <td>16.023325</td>\n",
       "      <td>17.762978</td>\n",
       "      <td>above ground</td>\n",
       "      <td>2981</td>\n",
       "      <td>POLYGON ((80986.556 456120.419, 80985.418 4561...</td>\n",
       "    </tr>\n",
       "    <tr>\n",
       "      <th>2</th>\n",
       "      <td>21100120</td>\n",
       "      <td>5616400</td>\n",
       "      <td>0</td>\n",
       "      <td>0</td>\n",
       "      <td>1.991461</td>\n",
       "      <td>5.265019</td>\n",
       "      <td>5.276763</td>\n",
       "      <td>5.362793</td>\n",
       "      <td>above ground</td>\n",
       "      <td>2981</td>\n",
       "      <td>POLYGON ((80683.457 455920.311, 80687.773 4559...</td>\n",
       "    </tr>\n",
       "    <tr>\n",
       "      <th>3</th>\n",
       "      <td>21100232</td>\n",
       "      <td>5617472</td>\n",
       "      <td>0</td>\n",
       "      <td>0</td>\n",
       "      <td>0.148521</td>\n",
       "      <td>13.977546</td>\n",
       "      <td>14.139849</td>\n",
       "      <td>16.385593</td>\n",
       "      <td>above ground</td>\n",
       "      <td>2981</td>\n",
       "      <td>POLYGON ((80942.034 456212.153, 80943.004 4562...</td>\n",
       "    </tr>\n",
       "    <tr>\n",
       "      <th>4</th>\n",
       "      <td>21100435</td>\n",
       "      <td>5618500</td>\n",
       "      <td>0</td>\n",
       "      <td>0</td>\n",
       "      <td>1.067675</td>\n",
       "      <td>10.575963</td>\n",
       "      <td>11.144601</td>\n",
       "      <td>12.088140</td>\n",
       "      <td>above ground</td>\n",
       "      <td>2981</td>\n",
       "      <td>POLYGON ((80881.945 456203.405, 80881.920 4562...</td>\n",
       "    </tr>\n",
       "  </tbody>\n",
       "</table>\n",
       "</div>"
      ],
      "text/plain": [
       "        gid      fid  pand_deel_id  dd_id  h_dak_min  h_dak_50p  h_dak_70p  \\\n",
       "0  21099631  5614198             0      0   0.487889   6.869765  10.828572   \n",
       "1  21099646  5614199             0      0   1.123393  15.737561  16.023325   \n",
       "2  21100120  5616400             0      0   1.991461   5.265019   5.276763   \n",
       "3  21100232  5617472             0      0   0.148521  13.977546  14.139849   \n",
       "4  21100435  5618500             0      0   1.067675  10.575963  11.144601   \n",
       "\n",
       "   h_dak_max ondergronds_type tile_id  \\\n",
       "0  12.847837     above ground    2981   \n",
       "1  17.762978     above ground    2981   \n",
       "2   5.362793     above ground    2981   \n",
       "3  16.385593     above ground    2981   \n",
       "4  12.088140     above ground    2981   \n",
       "\n",
       "                                            geometry  \n",
       "0  POLYGON ((80867.453 456066.917, 80867.900 4560...  \n",
       "1  POLYGON ((80986.556 456120.419, 80985.418 4561...  \n",
       "2  POLYGON ((80683.457 455920.311, 80687.773 4559...  \n",
       "3  POLYGON ((80942.034 456212.153, 80943.004 4562...  \n",
       "4  POLYGON ((80881.945 456203.405, 80881.920 4562...  "
      ]
     },
     "execution_count": 95,
     "metadata": {},
     "output_type": "execute_result"
    }
   ],
   "source": [
    "test_file = gpd.read_file('../data/clean_data/3dbag/tiles/2981.gpkg', layer='lod12_2d')\n",
    "test_file.head()"
   ]
  },
  {
   "cell_type": "code",
   "execution_count": 96,
   "id": "222ef39f-98f9-4939-b027-0a22791f6584",
   "metadata": {},
   "outputs": [
    {
     "name": "stdout",
     "output_type": "stream",
     "text": [
      "Error saving file 143.gpkg: Cannot write empty DataFrame to file.\n"
     ]
    }
   ],
   "source": [
    "## Calculate building height and save only lod2.2 2D layer as separate file\n",
    "# path to folder containing .gpkg files\n",
    "folder_path = '../data/clean_data/3dbag/tiles'\n",
    "export_path = '../data/clean_data/3dbag/heights'\n",
    "# iterate through each .gpkg file in the folder\n",
    "for filename in os.listdir(folder_path):\n",
    "    if filename.endswith(\".gpkg\"):\n",
    "        file_path = os.path.join(folder_path, filename)\n",
    "        # read the file into a GeoDataFrame\n",
    "        gdf = gpd.read_file(file_path, driver='GPKG', layer='lod12_2d')\n",
    "        # add a new column to the GeoDataFrame\n",
    "        gdf['height_70p'] = (gdf['h_dak_70p'] - gdf['h_dak_min'])\n",
    "        \n",
    "        gdf = gdf.drop(columns=['fid'])\n",
    "        \n",
    "        save_path = os.path.join(export_path, filename)\n",
    "        # save the updated GeoDataFrame to the same file, ignoring errors (empty tiles)\n",
    "        try:\n",
    "            gdf.to_file(save_path, driver='GPKG', layer='lod12_2d')\n",
    "        except Exception as e:\n",
    "            print(f'Error saving file {filename}: {e}')"
   ]
  },
  {
   "cell_type": "code",
   "execution_count": 97,
   "id": "4eac0b7c-8999-4295-8124-3f96a62c942a",
   "metadata": {},
   "outputs": [],
   "source": [
    "## Combine all gpkg files into one\n",
    "folder_path = \"../data/clean_data/3dbag/heights\"\n",
    "export_path = \"../data/clean_data/3dbag/buildings_study_area.gpkg\"\n",
    "\n",
    "gdf_list = []\n",
    "\n",
    "# iterate through each .gpkg file in the folder\n",
    "for filename in os.listdir(folder_path):\n",
    "    if filename.endswith(\".gpkg\"):\n",
    "        file_path = os.path.join(folder_path, filename)\n",
    "        # read the file into a GeoDataFrame\n",
    "        try:\n",
    "            gdf = gpd.read_file(file_path, driver='GPKG', layer='lod12_2d')\n",
    "            gdf_list.append(gdf)\n",
    "        except Exception as e:\n",
    "            print(f'Error appending file {filename}: {e}')\n",
    "\n",
    "# combine all GeoDataFrames into one\n",
    "combined_gdf = gpd.GeoDataFrame(pd.concat(gdf_list), crs=\"EPSG:28992\")\n",
    "\n",
    "# save the combined GeoDataFrame to a new file\n",
    "combined_gdf.to_file(export_path, driver='GPKG', layer='lod12_2d')"
   ]
  },
  {
   "cell_type": "code",
   "execution_count": 79,
   "id": "c4071eb7-2c8e-4d9f-b59a-1b67dfc3c330",
   "metadata": {},
   "outputs": [],
   "source": [
    "export_path = \"../data/clean_data/3dbag/buildings_study_area.gpkg\"\n",
    "# save the combined GeoDataFrame to a new file (added as layer to the file)\n",
    "combined_gdf.to_file(export_path, driver='GPKG', layer='lod12_2d')"
   ]
  },
  {
   "attachments": {},
   "cell_type": "markdown",
   "id": "36a2c100-c60f-4a8d-9b85-220b80e269bb",
   "metadata": {},
   "source": [
    "Split into city parts"
   ]
  },
  {
   "cell_type": "code",
   "execution_count": 98,
   "id": "795f9954-6b67-47a7-8f4b-fccb45fb41b8",
   "metadata": {},
   "outputs": [
    {
     "name": "stdout",
     "output_type": "stream",
     "text": [
      "Groningen\n",
      "Amsterdam\n",
      "Heerhugowaard\n",
      "Utrecht\n",
      "'s-Gravenhage\n",
      "Dordrecht\n",
      "Hendrik-Ido-Ambacht\n",
      "Rotterdam\n"
     ]
    }
   ],
   "source": [
    "data_dict = {}\n",
    "\n",
    "# Take the study areas dataframe and iterate over it to clip the buildings into individual gpkg files.\n",
    "for index, row in study_areas.iterrows():\n",
    "    area_name = row['NAME_2']\n",
    "    print(area_name)\n",
    "    area_gdf = combined_gdf.clip(row.geometry)\n",
    "    try:\n",
    "        area_gdf.to_file(f'../data/clean_data/3dbag/{area_name}_buildings.gpkg', driver='GPKG')\n",
    "    except:\n",
    "        area_gdf.to_file(f'../data/clean_data/3dbag/{area_name[1:]}_buildings.gpkg', driver='GPKG')\n",
    "    # data_dict[area_name] = area_gdf"
   ]
  },
  {
   "cell_type": "code",
   "execution_count": 102,
   "id": "6eccca2c-f613-45c5-a94a-9b055ba40f1e",
   "metadata": {},
   "outputs": [
    {
     "data": {
      "text/html": [
       "<div>\n",
       "<style scoped>\n",
       "    .dataframe tbody tr th:only-of-type {\n",
       "        vertical-align: middle;\n",
       "    }\n",
       "\n",
       "    .dataframe tbody tr th {\n",
       "        vertical-align: top;\n",
       "    }\n",
       "\n",
       "    .dataframe thead th {\n",
       "        text-align: right;\n",
       "    }\n",
       "</style>\n",
       "<table border=\"1\" class=\"dataframe\">\n",
       "  <thead>\n",
       "    <tr style=\"text-align: right;\">\n",
       "      <th></th>\n",
       "      <th>gid</th>\n",
       "      <th>pand_deel_id</th>\n",
       "      <th>dd_id</th>\n",
       "      <th>h_dak_min</th>\n",
       "      <th>h_dak_50p</th>\n",
       "      <th>h_dak_70p</th>\n",
       "      <th>h_dak_max</th>\n",
       "      <th>ondergronds_type</th>\n",
       "      <th>tile_id</th>\n",
       "      <th>height_70p</th>\n",
       "      <th>geometry</th>\n",
       "    </tr>\n",
       "  </thead>\n",
       "  <tbody>\n",
       "    <tr>\n",
       "      <th>0</th>\n",
       "      <td>22139603</td>\n",
       "      <td>0.0</td>\n",
       "      <td>0</td>\n",
       "      <td>4.585925</td>\n",
       "      <td>10.246358</td>\n",
       "      <td>10.253629</td>\n",
       "      <td>10.442611</td>\n",
       "      <td>above ground</td>\n",
       "      <td>618</td>\n",
       "      <td>5.667704</td>\n",
       "      <td>POLYGON ((240055.040 569949.481, 240056.503 56...</td>\n",
       "    </tr>\n",
       "    <tr>\n",
       "      <th>1</th>\n",
       "      <td>22140879</td>\n",
       "      <td>0.0</td>\n",
       "      <td>0</td>\n",
       "      <td>3.167362</td>\n",
       "      <td>6.226873</td>\n",
       "      <td>6.233937</td>\n",
       "      <td>6.295001</td>\n",
       "      <td>above ground</td>\n",
       "      <td>618</td>\n",
       "      <td>3.066575</td>\n",
       "      <td>POLYGON ((240039.835 569959.015, 240037.914 56...</td>\n",
       "    </tr>\n",
       "    <tr>\n",
       "      <th>2</th>\n",
       "      <td>22140348</td>\n",
       "      <td>0.0</td>\n",
       "      <td>0</td>\n",
       "      <td>4.675286</td>\n",
       "      <td>7.805014</td>\n",
       "      <td>7.901256</td>\n",
       "      <td>8.142466</td>\n",
       "      <td>above ground</td>\n",
       "      <td>618</td>\n",
       "      <td>3.225969</td>\n",
       "      <td>POLYGON ((239849.569 570003.672, 239849.588 57...</td>\n",
       "    </tr>\n",
       "    <tr>\n",
       "      <th>3</th>\n",
       "      <td>22138667</td>\n",
       "      <td>0.0</td>\n",
       "      <td>0</td>\n",
       "      <td>6.318471</td>\n",
       "      <td>9.079974</td>\n",
       "      <td>9.181605</td>\n",
       "      <td>9.634688</td>\n",
       "      <td>above ground</td>\n",
       "      <td>618</td>\n",
       "      <td>2.863134</td>\n",
       "      <td>POLYGON ((240044.663 569997.784, 240044.725 56...</td>\n",
       "    </tr>\n",
       "    <tr>\n",
       "      <th>4</th>\n",
       "      <td>22140328</td>\n",
       "      <td>0.0</td>\n",
       "      <td>0</td>\n",
       "      <td>7.165605</td>\n",
       "      <td>9.424167</td>\n",
       "      <td>9.737809</td>\n",
       "      <td>10.309152</td>\n",
       "      <td>above ground</td>\n",
       "      <td>618</td>\n",
       "      <td>2.572204</td>\n",
       "      <td>POLYGON ((239934.509 570002.524, 239934.425 57...</td>\n",
       "    </tr>\n",
       "  </tbody>\n",
       "</table>\n",
       "</div>"
      ],
      "text/plain": [
       "        gid  pand_deel_id  dd_id  h_dak_min  h_dak_50p  h_dak_70p  h_dak_max  \\\n",
       "0  22139603           0.0      0   4.585925  10.246358  10.253629  10.442611   \n",
       "1  22140879           0.0      0   3.167362   6.226873   6.233937   6.295001   \n",
       "2  22140348           0.0      0   4.675286   7.805014   7.901256   8.142466   \n",
       "3  22138667           0.0      0   6.318471   9.079974   9.181605   9.634688   \n",
       "4  22140328           0.0      0   7.165605   9.424167   9.737809  10.309152   \n",
       "\n",
       "  ondergronds_type tile_id  height_70p  \\\n",
       "0     above ground     618    5.667704   \n",
       "1     above ground     618    3.066575   \n",
       "2     above ground     618    3.225969   \n",
       "3     above ground     618    2.863134   \n",
       "4     above ground     618    2.572204   \n",
       "\n",
       "                                            geometry  \n",
       "0  POLYGON ((240055.040 569949.481, 240056.503 56...  \n",
       "1  POLYGON ((240039.835 569959.015, 240037.914 56...  \n",
       "2  POLYGON ((239849.569 570003.672, 239849.588 57...  \n",
       "3  POLYGON ((240044.663 569997.784, 240044.725 56...  \n",
       "4  POLYGON ((239934.509 570002.524, 239934.425 57...  "
      ]
     },
     "execution_count": 102,
     "metadata": {},
     "output_type": "execute_result"
    }
   ],
   "source": [
    "testing = gpd.read_file('../data/clean_data/3dbag/Groningen_buildings.gpkg')\n",
    "testing.head()"
   ]
  },
  {
   "cell_type": "code",
   "execution_count": null,
   "id": "7a892a67-2dff-4ee5-a77a-5467f85e3203",
   "metadata": {},
   "outputs": [],
   "source": [
    "testing.explore(column='height_70p')"
   ]
  },
  {
   "cell_type": "code",
   "execution_count": null,
   "id": "6c7d199a-b3fd-47d1-9dd8-b087cdbc89d8",
   "metadata": {},
   "outputs": [],
   "source": []
  }
 ],
 "metadata": {
  "kernelspec": {
   "display_name": "Python 3 (ipykernel)",
   "language": "python",
   "name": "python3"
  },
  "language_info": {
   "codemirror_mode": {
    "name": "ipython",
    "version": 3
   },
   "file_extension": ".py",
   "mimetype": "text/x-python",
   "name": "python",
   "nbconvert_exporter": "python",
   "pygments_lexer": "ipython3",
   "version": "3.11.3"
  }
 },
 "nbformat": 4,
 "nbformat_minor": 5
}
